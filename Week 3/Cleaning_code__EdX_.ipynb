{
 "cells": [
  {
   "cell_type": "markdown",
   "metadata": {},
   "source": [
    "# Cleaning code for \"Dynamic Pricing for Online Marketplace Sales\"\n",
    "### Daniel Guetta"
   ]
  },
  {
   "cell_type": "markdown",
   "metadata": {},
   "source": [
    "This file contains suggested code you might run as part of your study of the \"Dynamic Pricing for Online Marketplace Sales\" case. It is by no means the only way to address the problem, and the author would be grateful for any thoughts you have around other ways you might approach the case."
   ]
  },
  {
   "cell_type": "markdown",
   "metadata": {},
   "source": [
    "## Import packages"
   ]
  },
  {
   "cell_type": "code",
   "execution_count": 1,
   "metadata": {
    "collapsed": true
   },
   "outputs": [],
   "source": [
    "# Dates and times\n",
    "import datetime as dt\n",
    "\n",
    "# Pandas\n",
    "import pandas as pd\n",
    "\n",
    "# Mathematics\n",
    "import numpy as np\n",
    "\n",
    "# Plots (the first line ensures that you don't need to\n",
    "# run plt.show() every time you want to show a plot;\n",
    "# it happens automatically)\n",
    "%matplotlib inline\n",
    "import matplotlib.pyplot as plt\n",
    "\n",
    "# Interpolation\n",
    "from scipy.interpolate import interp1d\n",
    "\n",
    "# Package to read from the web for the simulator\n",
    "import urllib"
   ]
  },
  {
   "cell_type": "code",
   "execution_count": 2,
   "metadata": {
    "collapsed": true
   },
   "outputs": [],
   "source": [
    "def argmin(x):\n",
    "    '''\n",
    "    This function takes a vector, and returns a list of indicies of the\n",
    "    entries that are equal to the minimum value of the vector\n",
    "    '''\n",
    "    return [ j for (i, j) in zip(x, range(len(x))) if i == min(x) ]"
   ]
  },
  {
   "cell_type": "markdown",
   "metadata": {},
   "source": [
    "## Load the data"
   ]
  },
  {
   "cell_type": "code",
   "execution_count": 3,
   "metadata": {
    "collapsed": true
   },
   "outputs": [],
   "source": [
    "pricing_data = pd.read_csv(\"../Data/pricing_data.csv\", dtype = str)\n",
    "demand_data =pd.read_csv(\"../Data/demand_data.csv\", dtype = str)"
   ]
  },
  {
   "cell_type": "code",
   "execution_count": 4,
   "metadata": {},
   "outputs": [
    {
     "name": "stdout",
     "output_type": "stream",
     "text": [
      "PRICING DATA\n",
      "Shape: (155, 4)\n"
     ]
    },
    {
     "data": {
      "text/html": [
       "<div>\n",
       "<style>\n",
       "    .dataframe thead tr:only-child th {\n",
       "        text-align: right;\n",
       "    }\n",
       "\n",
       "    .dataframe thead th {\n",
       "        text-align: left;\n",
       "    }\n",
       "\n",
       "    .dataframe tbody tr th {\n",
       "        vertical-align: top;\n",
       "    }\n",
       "</style>\n",
       "<table border=\"1\" class=\"dataframe\">\n",
       "  <thead>\n",
       "    <tr style=\"text-align: right;\">\n",
       "      <th></th>\n",
       "      <th>product_id</th>\n",
       "      <th>start_date</th>\n",
       "      <th>end_date</th>\n",
       "      <th>price</th>\n",
       "    </tr>\n",
       "  </thead>\n",
       "  <tbody>\n",
       "    <tr>\n",
       "      <th>0</th>\n",
       "      <td>00057483849381</td>\n",
       "      <td>2017-04-23 21:13:34.120071</td>\n",
       "      <td>2017-04-24 21:31:06.554144</td>\n",
       "      <td>$5.5</td>\n",
       "    </tr>\n",
       "    <tr>\n",
       "      <th>1</th>\n",
       "      <td>00057483849381</td>\n",
       "      <td>2017-04-13 21:22:15.140159</td>\n",
       "      <td>2017-04-15 21:18:44.602745</td>\n",
       "      <td>$5.49</td>\n",
       "    </tr>\n",
       "    <tr>\n",
       "      <th>2</th>\n",
       "      <td>00057483849381</td>\n",
       "      <td>2017-03-26 22:29:14.864991</td>\n",
       "      <td>2017-03-27 22:17:46.512748</td>\n",
       "      <td>$9.58</td>\n",
       "    </tr>\n",
       "    <tr>\n",
       "      <th>3</th>\n",
       "      <td>00057483849381</td>\n",
       "      <td>2017-03-24 22:19:47.090448</td>\n",
       "      <td>2017-03-26 22:29:14.408937</td>\n",
       "      <td>$9.03</td>\n",
       "    </tr>\n",
       "    <tr>\n",
       "      <th>4</th>\n",
       "      <td>00057483849381</td>\n",
       "      <td>2017-06-08 23:19:18.184932</td>\n",
       "      <td>2017-06-09 23:02:48.168258</td>\n",
       "      <td>$5.5</td>\n",
       "    </tr>\n",
       "  </tbody>\n",
       "</table>\n",
       "</div>"
      ],
      "text/plain": [
       "       product_id                  start_date                    end_date  \\\n",
       "0  00057483849381  2017-04-23 21:13:34.120071  2017-04-24 21:31:06.554144   \n",
       "1  00057483849381  2017-04-13 21:22:15.140159  2017-04-15 21:18:44.602745   \n",
       "2  00057483849381  2017-03-26 22:29:14.864991  2017-03-27 22:17:46.512748   \n",
       "3  00057483849381  2017-03-24 22:19:47.090448  2017-03-26 22:29:14.408937   \n",
       "4  00057483849381  2017-06-08 23:19:18.184932  2017-06-09 23:02:48.168258   \n",
       "\n",
       "   price  \n",
       "0   $5.5  \n",
       "1  $5.49  \n",
       "2  $9.58  \n",
       "3  $9.03  \n",
       "4   $5.5  "
      ]
     },
     "metadata": {},
     "output_type": "display_data"
    },
    {
     "name": "stdout",
     "output_type": "stream",
     "text": [
      "DEMAND DATA\n",
      "Shape: (290, 4)\n"
     ]
    },
    {
     "data": {
      "text/html": [
       "<div>\n",
       "<style>\n",
       "    .dataframe thead tr:only-child th {\n",
       "        text-align: right;\n",
       "    }\n",
       "\n",
       "    .dataframe thead th {\n",
       "        text-align: left;\n",
       "    }\n",
       "\n",
       "    .dataframe tbody tr th {\n",
       "        vertical-align: top;\n",
       "    }\n",
       "</style>\n",
       "<table border=\"1\" class=\"dataframe\">\n",
       "  <thead>\n",
       "    <tr style=\"text-align: right;\">\n",
       "      <th></th>\n",
       "      <th>product_id</th>\n",
       "      <th>order_id</th>\n",
       "      <th>date_time</th>\n",
       "      <th>quantity</th>\n",
       "    </tr>\n",
       "  </thead>\n",
       "  <tbody>\n",
       "    <tr>\n",
       "      <th>0</th>\n",
       "      <td>57483849381</td>\n",
       "      <td>435723229</td>\n",
       "      <td>03/24/2017 Time: 04-59-10</td>\n",
       "      <td>1</td>\n",
       "    </tr>\n",
       "    <tr>\n",
       "      <th>1</th>\n",
       "      <td>57483849381</td>\n",
       "      <td>590234830</td>\n",
       "      <td>02/03/2017 Time: 01-44-42</td>\n",
       "      <td>10</td>\n",
       "    </tr>\n",
       "    <tr>\n",
       "      <th>2</th>\n",
       "      <td>57483849381</td>\n",
       "      <td>652912680</td>\n",
       "      <td>02/05/2017 Time: 23-32-43</td>\n",
       "      <td>4</td>\n",
       "    </tr>\n",
       "    <tr>\n",
       "      <th>3</th>\n",
       "      <td>57483849381</td>\n",
       "      <td>603830151</td>\n",
       "      <td>03/01/2017 Time: 20-59-05</td>\n",
       "      <td>9</td>\n",
       "    </tr>\n",
       "    <tr>\n",
       "      <th>4</th>\n",
       "      <td>57483849381</td>\n",
       "      <td>628238348</td>\n",
       "      <td>03/11/2017 Time: 04-05-09</td>\n",
       "      <td>1</td>\n",
       "    </tr>\n",
       "  </tbody>\n",
       "</table>\n",
       "</div>"
      ],
      "text/plain": [
       "    product_id   order_id                  date_time quantity\n",
       "0  57483849381  435723229  03/24/2017 Time: 04-59-10        1\n",
       "1  57483849381  590234830  02/03/2017 Time: 01-44-42       10\n",
       "2  57483849381  652912680  02/05/2017 Time: 23-32-43        4\n",
       "3  57483849381  603830151  03/01/2017 Time: 20-59-05        9\n",
       "4  57483849381  628238348  03/11/2017 Time: 04-05-09        1"
      ]
     },
     "metadata": {},
     "output_type": "display_data"
    }
   ],
   "source": [
    "def print_summary():\n",
    "    print(\"PRICING DATA\")\n",
    "    print(\"Shape: \" + str(pricing_data.shape))\n",
    "    display(pricing_data.head())\n",
    "    \n",
    "    print(\"DEMAND DATA\")\n",
    "    print(\"Shape: \" + str(demand_data.shape))\n",
    "    display(demand_data.head())\n",
    "    \n",
    "print_summary()"
   ]
  },
  {
   "cell_type": "markdown",
   "metadata": {},
   "source": [
    "We already see a few problems\n",
    "  * The product_ids have leading zeroes in the pricing table\n",
    "  * The dates have different formats\n",
    "  * The prices have dollar signs in them"
   ]
  },
  {
   "cell_type": "markdown",
   "metadata": {},
   "source": [
    "## Clean the data"
   ]
  },
  {
   "cell_type": "markdown",
   "metadata": {},
   "source": [
    "### Check for duplicated rows"
   ]
  },
  {
   "cell_type": "code",
   "execution_count": 5,
   "metadata": {},
   "outputs": [
    {
     "name": "stdout",
     "output_type": "stream",
     "text": [
      "Detected 50 duplicate rows in dataframe pricing_data. Dropping them.\n"
     ]
    }
   ],
   "source": [
    "def check_duplication(df, df_name):\n",
    "    num_duplicated = df.duplicated().sum()\n",
    "    if num_duplicated > 0:\n",
    "        print (\"Detected \" + str(num_duplicated) + \" duplicate rows in dataframe \" + df_name + \". Dropping them.\")\n",
    "        df = df.drop_duplicates()\n",
    "    \n",
    "    return df\n",
    "\n",
    "pricing_data = check_duplication(pricing_data, \"pricing_data\")\n",
    "demand_data = check_duplication(demand_data, \"demand_data\")"
   ]
  },
  {
   "cell_type": "markdown",
   "metadata": {},
   "source": [
    "### Typecast the data\n",
    "For each column, we will process all the entries to ensure they are in the right format. We will do this by defining \"cleaning\" functions that applying them to every row.\n",
    "\n",
    "If any of the data is not in the format we expect, the cleaning functions will throw an error, thus informing us some invalid data exists."
   ]
  },
  {
   "cell_type": "markdown",
   "metadata": {},
   "source": [
    "#### Pricing data"
   ]
  },
  {
   "cell_type": "code",
   "execution_count": 6,
   "metadata": {},
   "outputs": [
    {
     "ename": "ValueError",
     "evalue": "invalid literal for int() with base 10: 'KB392RIFD'",
     "output_type": "error",
     "traceback": [
      "\u001b[1;31m---------------------------------------------------------------------------\u001b[0m",
      "\u001b[1;31mValueError\u001b[0m                                Traceback (most recent call last)",
      "\u001b[1;32m<ipython-input-6-946d8ae76702>\u001b[0m in \u001b[0;36m<module>\u001b[1;34m()\u001b[0m\n\u001b[0;32m      6\u001b[0m     \u001b[1;32mreturn\u001b[0m \u001b[0mint\u001b[0m\u001b[1;33m(\u001b[0m\u001b[0mx\u001b[0m\u001b[1;33m)\u001b[0m\u001b[1;33m\u001b[0m\u001b[0m\n\u001b[0;32m      7\u001b[0m \u001b[1;33m\u001b[0m\u001b[0m\n\u001b[1;32m----> 8\u001b[1;33m \u001b[0mpricing_data\u001b[0m\u001b[1;33m[\u001b[0m\u001b[1;34m'product_id'\u001b[0m\u001b[1;33m]\u001b[0m \u001b[1;33m=\u001b[0m \u001b[0mpricing_data\u001b[0m\u001b[1;33m.\u001b[0m\u001b[0mproduct_id\u001b[0m\u001b[1;33m.\u001b[0m\u001b[0mapply\u001b[0m\u001b[1;33m(\u001b[0m \u001b[0mclean_ids\u001b[0m \u001b[1;33m)\u001b[0m\u001b[1;33m\u001b[0m\u001b[0m\n\u001b[0m",
      "\u001b[1;32m~\\AppData\\Local\\Continuum\\anaconda3\\lib\\site-packages\\pandas\\core\\series.py\u001b[0m in \u001b[0;36mapply\u001b[1;34m(self, func, convert_dtype, args, **kwds)\u001b[0m\n\u001b[0;32m   2353\u001b[0m             \u001b[1;32melse\u001b[0m\u001b[1;33m:\u001b[0m\u001b[1;33m\u001b[0m\u001b[0m\n\u001b[0;32m   2354\u001b[0m                 \u001b[0mvalues\u001b[0m \u001b[1;33m=\u001b[0m \u001b[0mself\u001b[0m\u001b[1;33m.\u001b[0m\u001b[0masobject\u001b[0m\u001b[1;33m\u001b[0m\u001b[0m\n\u001b[1;32m-> 2355\u001b[1;33m                 \u001b[0mmapped\u001b[0m \u001b[1;33m=\u001b[0m \u001b[0mlib\u001b[0m\u001b[1;33m.\u001b[0m\u001b[0mmap_infer\u001b[0m\u001b[1;33m(\u001b[0m\u001b[0mvalues\u001b[0m\u001b[1;33m,\u001b[0m \u001b[0mf\u001b[0m\u001b[1;33m,\u001b[0m \u001b[0mconvert\u001b[0m\u001b[1;33m=\u001b[0m\u001b[0mconvert_dtype\u001b[0m\u001b[1;33m)\u001b[0m\u001b[1;33m\u001b[0m\u001b[0m\n\u001b[0m\u001b[0;32m   2356\u001b[0m \u001b[1;33m\u001b[0m\u001b[0m\n\u001b[0;32m   2357\u001b[0m         \u001b[1;32mif\u001b[0m \u001b[0mlen\u001b[0m\u001b[1;33m(\u001b[0m\u001b[0mmapped\u001b[0m\u001b[1;33m)\u001b[0m \u001b[1;32mand\u001b[0m \u001b[0misinstance\u001b[0m\u001b[1;33m(\u001b[0m\u001b[0mmapped\u001b[0m\u001b[1;33m[\u001b[0m\u001b[1;36m0\u001b[0m\u001b[1;33m]\u001b[0m\u001b[1;33m,\u001b[0m \u001b[0mSeries\u001b[0m\u001b[1;33m)\u001b[0m\u001b[1;33m:\u001b[0m\u001b[1;33m\u001b[0m\u001b[0m\n",
      "\u001b[1;32mpandas/_libs/src\\inference.pyx\u001b[0m in \u001b[0;36mpandas._libs.lib.map_infer\u001b[1;34m()\u001b[0m\n",
      "\u001b[1;32m<ipython-input-6-946d8ae76702>\u001b[0m in \u001b[0;36mclean_ids\u001b[1;34m(x)\u001b[0m\n\u001b[0;32m      4\u001b[0m \u001b[1;31m# if the product ID is not a number.\u001b[0m\u001b[1;33m\u001b[0m\u001b[1;33m\u001b[0m\u001b[0m\n\u001b[0;32m      5\u001b[0m \u001b[1;32mdef\u001b[0m \u001b[0mclean_ids\u001b[0m\u001b[1;33m(\u001b[0m\u001b[0mx\u001b[0m\u001b[1;33m)\u001b[0m\u001b[1;33m:\u001b[0m\u001b[1;33m\u001b[0m\u001b[0m\n\u001b[1;32m----> 6\u001b[1;33m     \u001b[1;32mreturn\u001b[0m \u001b[0mint\u001b[0m\u001b[1;33m(\u001b[0m\u001b[0mx\u001b[0m\u001b[1;33m)\u001b[0m\u001b[1;33m\u001b[0m\u001b[0m\n\u001b[0m\u001b[0;32m      7\u001b[0m \u001b[1;33m\u001b[0m\u001b[0m\n\u001b[0;32m      8\u001b[0m \u001b[0mpricing_data\u001b[0m\u001b[1;33m[\u001b[0m\u001b[1;34m'product_id'\u001b[0m\u001b[1;33m]\u001b[0m \u001b[1;33m=\u001b[0m \u001b[0mpricing_data\u001b[0m\u001b[1;33m.\u001b[0m\u001b[0mproduct_id\u001b[0m\u001b[1;33m.\u001b[0m\u001b[0mapply\u001b[0m\u001b[1;33m(\u001b[0m \u001b[0mclean_ids\u001b[0m \u001b[1;33m)\u001b[0m\u001b[1;33m\u001b[0m\u001b[0m\n",
      "\u001b[1;31mValueError\u001b[0m: invalid literal for int() with base 10: 'KB392RIFD'"
     ]
    }
   ],
   "source": [
    "# Check that the product IDs are numbers, and remove leading\n",
    "# zeroes. Running the product IDs through the int function\n",
    "# will automatically remove those zeroes, and will error out\n",
    "# if the product ID is not a number.\n",
    "def clean_ids(x):\n",
    "    return int(x)\n",
    "\n",
    "pricing_data['product_id'] = pricing_data.product_id.apply( clean_ids )"
   ]
  },
  {
   "cell_type": "code",
   "execution_count": 7,
   "metadata": {
    "collapsed": true
   },
   "outputs": [],
   "source": [
    "# Clearly, some product IDs contain strings. Thus, we should\n",
    "# modify our function to strip leading zeroes if the ID is a\n",
    "# number, but otherwise leave it alone\n",
    "def clean_ids(x):\n",
    "    try:\n",
    "        return str(int(x))\n",
    "    except:\n",
    "        return x\n",
    "    \n",
    "pricing_data['product_id'] = pricing_data.product_id.apply( clean_ids )"
   ]
  },
  {
   "cell_type": "code",
   "execution_count": 8,
   "metadata": {},
   "outputs": [
    {
     "ename": "ValueError",
     "evalue": "time data '2017-02-01 00:00:00' does not match format '%Y-%m-%d %H:%M:%S.%f'",
     "output_type": "error",
     "traceback": [
      "\u001b[1;31m---------------------------------------------------------------------------\u001b[0m",
      "\u001b[1;31mValueError\u001b[0m                                Traceback (most recent call last)",
      "\u001b[1;32m<ipython-input-8-da7c26319362>\u001b[0m in \u001b[0;36m<module>\u001b[1;34m()\u001b[0m\n\u001b[0;32m      6\u001b[0m     \u001b[1;32mreturn\u001b[0m \u001b[0mdt\u001b[0m\u001b[1;33m.\u001b[0m\u001b[0mdatetime\u001b[0m\u001b[1;33m.\u001b[0m\u001b[0mstrptime\u001b[0m\u001b[1;33m(\u001b[0m\u001b[0mx\u001b[0m\u001b[1;33m,\u001b[0m \u001b[1;34m'%Y-%m-%d %H:%M:%S.%f'\u001b[0m\u001b[1;33m)\u001b[0m\u001b[1;33m\u001b[0m\u001b[0m\n\u001b[0;32m      7\u001b[0m \u001b[1;33m\u001b[0m\u001b[0m\n\u001b[1;32m----> 8\u001b[1;33m \u001b[0mpricing_data\u001b[0m\u001b[1;33m[\u001b[0m\u001b[1;34m'start_date'\u001b[0m\u001b[1;33m]\u001b[0m \u001b[1;33m=\u001b[0m \u001b[0mpricing_data\u001b[0m\u001b[1;33m.\u001b[0m\u001b[0mstart_date\u001b[0m\u001b[1;33m.\u001b[0m\u001b[0mapply\u001b[0m\u001b[1;33m(\u001b[0m \u001b[0mclean_dates\u001b[0m \u001b[1;33m)\u001b[0m\u001b[1;33m\u001b[0m\u001b[0m\n\u001b[0m\u001b[0;32m      9\u001b[0m \u001b[0mpricing_data\u001b[0m\u001b[1;33m[\u001b[0m\u001b[1;34m'end_date'\u001b[0m\u001b[1;33m]\u001b[0m \u001b[1;33m=\u001b[0m \u001b[0mpricing_data\u001b[0m\u001b[1;33m.\u001b[0m\u001b[0mend_date\u001b[0m\u001b[1;33m.\u001b[0m\u001b[0mapply\u001b[0m\u001b[1;33m(\u001b[0m \u001b[0mclean_dates\u001b[0m \u001b[1;33m)\u001b[0m\u001b[1;33m\u001b[0m\u001b[0m\n",
      "\u001b[1;32m~\\AppData\\Local\\Continuum\\anaconda3\\lib\\site-packages\\pandas\\core\\series.py\u001b[0m in \u001b[0;36mapply\u001b[1;34m(self, func, convert_dtype, args, **kwds)\u001b[0m\n\u001b[0;32m   2353\u001b[0m             \u001b[1;32melse\u001b[0m\u001b[1;33m:\u001b[0m\u001b[1;33m\u001b[0m\u001b[0m\n\u001b[0;32m   2354\u001b[0m                 \u001b[0mvalues\u001b[0m \u001b[1;33m=\u001b[0m \u001b[0mself\u001b[0m\u001b[1;33m.\u001b[0m\u001b[0masobject\u001b[0m\u001b[1;33m\u001b[0m\u001b[0m\n\u001b[1;32m-> 2355\u001b[1;33m                 \u001b[0mmapped\u001b[0m \u001b[1;33m=\u001b[0m \u001b[0mlib\u001b[0m\u001b[1;33m.\u001b[0m\u001b[0mmap_infer\u001b[0m\u001b[1;33m(\u001b[0m\u001b[0mvalues\u001b[0m\u001b[1;33m,\u001b[0m \u001b[0mf\u001b[0m\u001b[1;33m,\u001b[0m \u001b[0mconvert\u001b[0m\u001b[1;33m=\u001b[0m\u001b[0mconvert_dtype\u001b[0m\u001b[1;33m)\u001b[0m\u001b[1;33m\u001b[0m\u001b[0m\n\u001b[0m\u001b[0;32m   2356\u001b[0m \u001b[1;33m\u001b[0m\u001b[0m\n\u001b[0;32m   2357\u001b[0m         \u001b[1;32mif\u001b[0m \u001b[0mlen\u001b[0m\u001b[1;33m(\u001b[0m\u001b[0mmapped\u001b[0m\u001b[1;33m)\u001b[0m \u001b[1;32mand\u001b[0m \u001b[0misinstance\u001b[0m\u001b[1;33m(\u001b[0m\u001b[0mmapped\u001b[0m\u001b[1;33m[\u001b[0m\u001b[1;36m0\u001b[0m\u001b[1;33m]\u001b[0m\u001b[1;33m,\u001b[0m \u001b[0mSeries\u001b[0m\u001b[1;33m)\u001b[0m\u001b[1;33m:\u001b[0m\u001b[1;33m\u001b[0m\u001b[0m\n",
      "\u001b[1;32mpandas/_libs/src\\inference.pyx\u001b[0m in \u001b[0;36mpandas._libs.lib.map_infer\u001b[1;34m()\u001b[0m\n",
      "\u001b[1;32m<ipython-input-8-da7c26319362>\u001b[0m in \u001b[0;36mclean_dates\u001b[1;34m(x)\u001b[0m\n\u001b[0;32m      4\u001b[0m \u001b[1;33m\u001b[0m\u001b[0m\n\u001b[0;32m      5\u001b[0m \u001b[1;32mdef\u001b[0m \u001b[0mclean_dates\u001b[0m\u001b[1;33m(\u001b[0m\u001b[0mx\u001b[0m\u001b[1;33m)\u001b[0m\u001b[1;33m:\u001b[0m\u001b[1;33m\u001b[0m\u001b[0m\n\u001b[1;32m----> 6\u001b[1;33m     \u001b[1;32mreturn\u001b[0m \u001b[0mdt\u001b[0m\u001b[1;33m.\u001b[0m\u001b[0mdatetime\u001b[0m\u001b[1;33m.\u001b[0m\u001b[0mstrptime\u001b[0m\u001b[1;33m(\u001b[0m\u001b[0mx\u001b[0m\u001b[1;33m,\u001b[0m \u001b[1;34m'%Y-%m-%d %H:%M:%S.%f'\u001b[0m\u001b[1;33m)\u001b[0m\u001b[1;33m\u001b[0m\u001b[0m\n\u001b[0m\u001b[0;32m      7\u001b[0m \u001b[1;33m\u001b[0m\u001b[0m\n\u001b[0;32m      8\u001b[0m \u001b[0mpricing_data\u001b[0m\u001b[1;33m[\u001b[0m\u001b[1;34m'start_date'\u001b[0m\u001b[1;33m]\u001b[0m \u001b[1;33m=\u001b[0m \u001b[0mpricing_data\u001b[0m\u001b[1;33m.\u001b[0m\u001b[0mstart_date\u001b[0m\u001b[1;33m.\u001b[0m\u001b[0mapply\u001b[0m\u001b[1;33m(\u001b[0m \u001b[0mclean_dates\u001b[0m \u001b[1;33m)\u001b[0m\u001b[1;33m\u001b[0m\u001b[0m\n",
      "\u001b[1;32m~\\AppData\\Local\\Continuum\\anaconda3\\lib\\_strptime.py\u001b[0m in \u001b[0;36m_strptime_datetime\u001b[1;34m(cls, data_string, format)\u001b[0m\n\u001b[0;32m    563\u001b[0m     \"\"\"Return a class cls instance based on the input string and the\n\u001b[0;32m    564\u001b[0m     format string.\"\"\"\n\u001b[1;32m--> 565\u001b[1;33m     \u001b[0mtt\u001b[0m\u001b[1;33m,\u001b[0m \u001b[0mfraction\u001b[0m \u001b[1;33m=\u001b[0m \u001b[0m_strptime\u001b[0m\u001b[1;33m(\u001b[0m\u001b[0mdata_string\u001b[0m\u001b[1;33m,\u001b[0m \u001b[0mformat\u001b[0m\u001b[1;33m)\u001b[0m\u001b[1;33m\u001b[0m\u001b[0m\n\u001b[0m\u001b[0;32m    566\u001b[0m     \u001b[0mtzname\u001b[0m\u001b[1;33m,\u001b[0m \u001b[0mgmtoff\u001b[0m \u001b[1;33m=\u001b[0m \u001b[0mtt\u001b[0m\u001b[1;33m[\u001b[0m\u001b[1;33m-\u001b[0m\u001b[1;36m2\u001b[0m\u001b[1;33m:\u001b[0m\u001b[1;33m]\u001b[0m\u001b[1;33m\u001b[0m\u001b[0m\n\u001b[0;32m    567\u001b[0m     \u001b[0margs\u001b[0m \u001b[1;33m=\u001b[0m \u001b[0mtt\u001b[0m\u001b[1;33m[\u001b[0m\u001b[1;33m:\u001b[0m\u001b[1;36m6\u001b[0m\u001b[1;33m]\u001b[0m \u001b[1;33m+\u001b[0m \u001b[1;33m(\u001b[0m\u001b[0mfraction\u001b[0m\u001b[1;33m,\u001b[0m\u001b[1;33m)\u001b[0m\u001b[1;33m\u001b[0m\u001b[0m\n",
      "\u001b[1;32m~\\AppData\\Local\\Continuum\\anaconda3\\lib\\_strptime.py\u001b[0m in \u001b[0;36m_strptime\u001b[1;34m(data_string, format)\u001b[0m\n\u001b[0;32m    360\u001b[0m     \u001b[1;32mif\u001b[0m \u001b[1;32mnot\u001b[0m \u001b[0mfound\u001b[0m\u001b[1;33m:\u001b[0m\u001b[1;33m\u001b[0m\u001b[0m\n\u001b[0;32m    361\u001b[0m         raise ValueError(\"time data %r does not match format %r\" %\n\u001b[1;32m--> 362\u001b[1;33m                          (data_string, format))\n\u001b[0m\u001b[0;32m    363\u001b[0m     \u001b[1;32mif\u001b[0m \u001b[0mlen\u001b[0m\u001b[1;33m(\u001b[0m\u001b[0mdata_string\u001b[0m\u001b[1;33m)\u001b[0m \u001b[1;33m!=\u001b[0m \u001b[0mfound\u001b[0m\u001b[1;33m.\u001b[0m\u001b[0mend\u001b[0m\u001b[1;33m(\u001b[0m\u001b[1;33m)\u001b[0m\u001b[1;33m:\u001b[0m\u001b[1;33m\u001b[0m\u001b[0m\n\u001b[0;32m    364\u001b[0m         raise ValueError(\"unconverted data remains: %s\" %\n",
      "\u001b[1;31mValueError\u001b[0m: time data '2017-02-01 00:00:00' does not match format '%Y-%m-%d %H:%M:%S.%f'"
     ]
    }
   ],
   "source": [
    "# Start date / end date should be dates. Based on what we see\n",
    "# in the samples above, dates in the pricing table are in the\n",
    "# following format: '%Y-%m-%d %H:%M:%S.%f'\n",
    "\n",
    "def clean_dates(x):\n",
    "    return dt.datetime.strptime(x, '%Y-%m-%d %H:%M:%S.%f')\n",
    "        \n",
    "pricing_data['start_date'] = pricing_data.start_date.apply( clean_dates )\n",
    "pricing_data['end_date'] = pricing_data.end_date.apply( clean_dates )"
   ]
  },
  {
   "cell_type": "code",
   "execution_count": 9,
   "metadata": {
    "collapsed": true
   },
   "outputs": [],
   "source": [
    "# Unfortunately, it looks like some dates don't have milliseconds.\n",
    "# Thus, we need to take into account both possible date formats.\n",
    "\n",
    "def clean_dates(x):\n",
    "    # Check whether this date includes a millisecond\n",
    "    if (\".\" in x):\n",
    "        return dt.datetime.strptime(x, '%Y-%m-%d %H:%M:%S.%f')\n",
    "    else:\n",
    "        return dt.datetime.strptime(x, '%Y-%m-%d %H:%M:%S')\n",
    "pricing_data['start_date'] = pricing_data.start_date.apply( clean_dates )\n",
    "pricing_data['end_date'] = pricing_data.end_date.apply( clean_dates )"
   ]
  },
  {
   "cell_type": "code",
   "execution_count": 10,
   "metadata": {
    "collapsed": true
   },
   "outputs": [],
   "source": [
    "# Price needs to have the dollar sign stripped off, and then needs to be\n",
    "# converted to a number\n",
    "pricing_data['price'] = pricing_data.price.apply( lambda x : float(x[1:]) )"
   ]
  },
  {
   "cell_type": "code",
   "execution_count": 11,
   "metadata": {},
   "outputs": [
    {
     "data": {
      "text/html": [
       "<div>\n",
       "<style>\n",
       "    .dataframe thead tr:only-child th {\n",
       "        text-align: right;\n",
       "    }\n",
       "\n",
       "    .dataframe thead th {\n",
       "        text-align: left;\n",
       "    }\n",
       "\n",
       "    .dataframe tbody tr th {\n",
       "        vertical-align: top;\n",
       "    }\n",
       "</style>\n",
       "<table border=\"1\" class=\"dataframe\">\n",
       "  <thead>\n",
       "    <tr style=\"text-align: right;\">\n",
       "      <th></th>\n",
       "      <th>product_id</th>\n",
       "      <th>start_date</th>\n",
       "      <th>end_date</th>\n",
       "      <th>price</th>\n",
       "    </tr>\n",
       "  </thead>\n",
       "  <tbody>\n",
       "    <tr>\n",
       "      <th>0</th>\n",
       "      <td>57483849381</td>\n",
       "      <td>2017-04-23 21:13:34.120071</td>\n",
       "      <td>2017-04-24 21:31:06.554144</td>\n",
       "      <td>5.50</td>\n",
       "    </tr>\n",
       "    <tr>\n",
       "      <th>1</th>\n",
       "      <td>57483849381</td>\n",
       "      <td>2017-04-13 21:22:15.140159</td>\n",
       "      <td>2017-04-15 21:18:44.602745</td>\n",
       "      <td>5.49</td>\n",
       "    </tr>\n",
       "    <tr>\n",
       "      <th>2</th>\n",
       "      <td>57483849381</td>\n",
       "      <td>2017-03-26 22:29:14.864991</td>\n",
       "      <td>2017-03-27 22:17:46.512748</td>\n",
       "      <td>9.58</td>\n",
       "    </tr>\n",
       "    <tr>\n",
       "      <th>3</th>\n",
       "      <td>57483849381</td>\n",
       "      <td>2017-03-24 22:19:47.090448</td>\n",
       "      <td>2017-03-26 22:29:14.408937</td>\n",
       "      <td>9.03</td>\n",
       "    </tr>\n",
       "    <tr>\n",
       "      <th>4</th>\n",
       "      <td>57483849381</td>\n",
       "      <td>2017-06-08 23:19:18.184932</td>\n",
       "      <td>2017-06-09 23:02:48.168258</td>\n",
       "      <td>5.50</td>\n",
       "    </tr>\n",
       "  </tbody>\n",
       "</table>\n",
       "</div>"
      ],
      "text/plain": [
       "    product_id                 start_date                   end_date  price\n",
       "0  57483849381 2017-04-23 21:13:34.120071 2017-04-24 21:31:06.554144   5.50\n",
       "1  57483849381 2017-04-13 21:22:15.140159 2017-04-15 21:18:44.602745   5.49\n",
       "2  57483849381 2017-03-26 22:29:14.864991 2017-03-27 22:17:46.512748   9.58\n",
       "3  57483849381 2017-03-24 22:19:47.090448 2017-03-26 22:29:14.408937   9.03\n",
       "4  57483849381 2017-06-08 23:19:18.184932 2017-06-09 23:02:48.168258   5.50"
      ]
     },
     "execution_count": 11,
     "metadata": {},
     "output_type": "execute_result"
    }
   ],
   "source": [
    "pricing_data.head()"
   ]
  },
  {
   "cell_type": "markdown",
   "metadata": {},
   "source": [
    "#### Demand data"
   ]
  },
  {
   "cell_type": "code",
   "execution_count": 12,
   "metadata": {
    "collapsed": true
   },
   "outputs": [],
   "source": [
    "# Same processing for product ID\n",
    "demand_data['product_id'] = demand_data.product_id.apply( clean_ids )"
   ]
  },
  {
   "cell_type": "code",
   "execution_count": 13,
   "metadata": {
    "collapsed": true
   },
   "outputs": [],
   "source": [
    "# Convert date_time to a date, using the format in the sample\n",
    "# above to see if it works\n",
    "demand_data['date_time'] = demand_data.date_time.apply( lambda x : dt.datetime.strptime(x, '%m/%d/%Y Time: %H-%M-%S') )"
   ]
  },
  {
   "cell_type": "code",
   "execution_count": 14,
   "metadata": {},
   "outputs": [
    {
     "ename": "ValueError",
     "evalue": "invalid literal for int() with base 10: '3 cases'",
     "output_type": "error",
     "traceback": [
      "\u001b[1;31m---------------------------------------------------------------------------\u001b[0m",
      "\u001b[1;31mValueError\u001b[0m                                Traceback (most recent call last)",
      "\u001b[1;32m<ipython-input-14-f1ead2214721>\u001b[0m in \u001b[0;36m<module>\u001b[1;34m()\u001b[0m\n\u001b[0;32m      1\u001b[0m \u001b[1;31m# Quantity should be an integer\u001b[0m\u001b[1;33m\u001b[0m\u001b[1;33m\u001b[0m\u001b[0m\n\u001b[1;32m----> 2\u001b[1;33m \u001b[0mdemand_data\u001b[0m\u001b[1;33m[\u001b[0m\u001b[1;34m'quantity'\u001b[0m\u001b[1;33m]\u001b[0m \u001b[1;33m=\u001b[0m \u001b[0mdemand_data\u001b[0m\u001b[1;33m.\u001b[0m\u001b[0mquantity\u001b[0m\u001b[1;33m.\u001b[0m\u001b[0mapply\u001b[0m\u001b[1;33m(\u001b[0m \u001b[1;32mlambda\u001b[0m \u001b[0mx\u001b[0m \u001b[1;33m:\u001b[0m \u001b[0mint\u001b[0m\u001b[1;33m(\u001b[0m\u001b[0mx\u001b[0m\u001b[1;33m)\u001b[0m \u001b[1;33m)\u001b[0m\u001b[1;33m\u001b[0m\u001b[0m\n\u001b[0m",
      "\u001b[1;32m~\\AppData\\Local\\Continuum\\anaconda3\\lib\\site-packages\\pandas\\core\\series.py\u001b[0m in \u001b[0;36mapply\u001b[1;34m(self, func, convert_dtype, args, **kwds)\u001b[0m\n\u001b[0;32m   2353\u001b[0m             \u001b[1;32melse\u001b[0m\u001b[1;33m:\u001b[0m\u001b[1;33m\u001b[0m\u001b[0m\n\u001b[0;32m   2354\u001b[0m                 \u001b[0mvalues\u001b[0m \u001b[1;33m=\u001b[0m \u001b[0mself\u001b[0m\u001b[1;33m.\u001b[0m\u001b[0masobject\u001b[0m\u001b[1;33m\u001b[0m\u001b[0m\n\u001b[1;32m-> 2355\u001b[1;33m                 \u001b[0mmapped\u001b[0m \u001b[1;33m=\u001b[0m \u001b[0mlib\u001b[0m\u001b[1;33m.\u001b[0m\u001b[0mmap_infer\u001b[0m\u001b[1;33m(\u001b[0m\u001b[0mvalues\u001b[0m\u001b[1;33m,\u001b[0m \u001b[0mf\u001b[0m\u001b[1;33m,\u001b[0m \u001b[0mconvert\u001b[0m\u001b[1;33m=\u001b[0m\u001b[0mconvert_dtype\u001b[0m\u001b[1;33m)\u001b[0m\u001b[1;33m\u001b[0m\u001b[0m\n\u001b[0m\u001b[0;32m   2356\u001b[0m \u001b[1;33m\u001b[0m\u001b[0m\n\u001b[0;32m   2357\u001b[0m         \u001b[1;32mif\u001b[0m \u001b[0mlen\u001b[0m\u001b[1;33m(\u001b[0m\u001b[0mmapped\u001b[0m\u001b[1;33m)\u001b[0m \u001b[1;32mand\u001b[0m \u001b[0misinstance\u001b[0m\u001b[1;33m(\u001b[0m\u001b[0mmapped\u001b[0m\u001b[1;33m[\u001b[0m\u001b[1;36m0\u001b[0m\u001b[1;33m]\u001b[0m\u001b[1;33m,\u001b[0m \u001b[0mSeries\u001b[0m\u001b[1;33m)\u001b[0m\u001b[1;33m:\u001b[0m\u001b[1;33m\u001b[0m\u001b[0m\n",
      "\u001b[1;32mpandas/_libs/src\\inference.pyx\u001b[0m in \u001b[0;36mpandas._libs.lib.map_infer\u001b[1;34m()\u001b[0m\n",
      "\u001b[1;32m<ipython-input-14-f1ead2214721>\u001b[0m in \u001b[0;36m<lambda>\u001b[1;34m(x)\u001b[0m\n\u001b[0;32m      1\u001b[0m \u001b[1;31m# Quantity should be an integer\u001b[0m\u001b[1;33m\u001b[0m\u001b[1;33m\u001b[0m\u001b[0m\n\u001b[1;32m----> 2\u001b[1;33m \u001b[0mdemand_data\u001b[0m\u001b[1;33m[\u001b[0m\u001b[1;34m'quantity'\u001b[0m\u001b[1;33m]\u001b[0m \u001b[1;33m=\u001b[0m \u001b[0mdemand_data\u001b[0m\u001b[1;33m.\u001b[0m\u001b[0mquantity\u001b[0m\u001b[1;33m.\u001b[0m\u001b[0mapply\u001b[0m\u001b[1;33m(\u001b[0m \u001b[1;32mlambda\u001b[0m \u001b[0mx\u001b[0m \u001b[1;33m:\u001b[0m \u001b[0mint\u001b[0m\u001b[1;33m(\u001b[0m\u001b[0mx\u001b[0m\u001b[1;33m)\u001b[0m \u001b[1;33m)\u001b[0m\u001b[1;33m\u001b[0m\u001b[0m\n\u001b[0m",
      "\u001b[1;31mValueError\u001b[0m: invalid literal for int() with base 10: '3 cases'"
     ]
    }
   ],
   "source": [
    "# Quantity should be an integer\n",
    "demand_data['quantity'] = demand_data.quantity.apply( lambda x : int(x) )"
   ]
  },
  {
   "cell_type": "code",
   "execution_count": 15,
   "metadata": {},
   "outputs": [
    {
     "data": {
      "text/plain": [
       "1"
      ]
     },
     "execution_count": 15,
     "metadata": {},
     "output_type": "execute_result"
    }
   ],
   "source": [
    "# It seems like one of the rows contains the quantity \"3 cases\".\n",
    "# Let's make sure it's not too many rows\n",
    "sum(demand_data.quantity == \"3 cases\")"
   ]
  },
  {
   "cell_type": "code",
   "execution_count": 16,
   "metadata": {
    "collapsed": true
   },
   "outputs": [],
   "source": [
    "# One of the rows contains the quantity \"3 cases\" which makes\n",
    "# no sense - let's eliminate it first\n",
    "demand_data = demand_data[demand_data.quantity != \"3 cases\"]\n",
    "demand_data['quantity'] = demand_data.quantity.apply( lambda x : int(x) )"
   ]
  },
  {
   "cell_type": "markdown",
   "metadata": {},
   "source": [
    "See where we're at"
   ]
  },
  {
   "cell_type": "code",
   "execution_count": 17,
   "metadata": {},
   "outputs": [
    {
     "name": "stdout",
     "output_type": "stream",
     "text": [
      "PRICING DATA\n",
      "Shape: (105, 4)\n"
     ]
    },
    {
     "data": {
      "text/html": [
       "<div>\n",
       "<style>\n",
       "    .dataframe thead tr:only-child th {\n",
       "        text-align: right;\n",
       "    }\n",
       "\n",
       "    .dataframe thead th {\n",
       "        text-align: left;\n",
       "    }\n",
       "\n",
       "    .dataframe tbody tr th {\n",
       "        vertical-align: top;\n",
       "    }\n",
       "</style>\n",
       "<table border=\"1\" class=\"dataframe\">\n",
       "  <thead>\n",
       "    <tr style=\"text-align: right;\">\n",
       "      <th></th>\n",
       "      <th>product_id</th>\n",
       "      <th>start_date</th>\n",
       "      <th>end_date</th>\n",
       "      <th>price</th>\n",
       "    </tr>\n",
       "  </thead>\n",
       "  <tbody>\n",
       "    <tr>\n",
       "      <th>0</th>\n",
       "      <td>57483849381</td>\n",
       "      <td>2017-04-23 21:13:34.120071</td>\n",
       "      <td>2017-04-24 21:31:06.554144</td>\n",
       "      <td>5.50</td>\n",
       "    </tr>\n",
       "    <tr>\n",
       "      <th>1</th>\n",
       "      <td>57483849381</td>\n",
       "      <td>2017-04-13 21:22:15.140159</td>\n",
       "      <td>2017-04-15 21:18:44.602745</td>\n",
       "      <td>5.49</td>\n",
       "    </tr>\n",
       "    <tr>\n",
       "      <th>2</th>\n",
       "      <td>57483849381</td>\n",
       "      <td>2017-03-26 22:29:14.864991</td>\n",
       "      <td>2017-03-27 22:17:46.512748</td>\n",
       "      <td>9.58</td>\n",
       "    </tr>\n",
       "    <tr>\n",
       "      <th>3</th>\n",
       "      <td>57483849381</td>\n",
       "      <td>2017-03-24 22:19:47.090448</td>\n",
       "      <td>2017-03-26 22:29:14.408937</td>\n",
       "      <td>9.03</td>\n",
       "    </tr>\n",
       "    <tr>\n",
       "      <th>4</th>\n",
       "      <td>57483849381</td>\n",
       "      <td>2017-06-08 23:19:18.184932</td>\n",
       "      <td>2017-06-09 23:02:48.168258</td>\n",
       "      <td>5.50</td>\n",
       "    </tr>\n",
       "  </tbody>\n",
       "</table>\n",
       "</div>"
      ],
      "text/plain": [
       "    product_id                 start_date                   end_date  price\n",
       "0  57483849381 2017-04-23 21:13:34.120071 2017-04-24 21:31:06.554144   5.50\n",
       "1  57483849381 2017-04-13 21:22:15.140159 2017-04-15 21:18:44.602745   5.49\n",
       "2  57483849381 2017-03-26 22:29:14.864991 2017-03-27 22:17:46.512748   9.58\n",
       "3  57483849381 2017-03-24 22:19:47.090448 2017-03-26 22:29:14.408937   9.03\n",
       "4  57483849381 2017-06-08 23:19:18.184932 2017-06-09 23:02:48.168258   5.50"
      ]
     },
     "metadata": {},
     "output_type": "display_data"
    },
    {
     "name": "stdout",
     "output_type": "stream",
     "text": [
      "DEMAND DATA\n",
      "Shape: (289, 4)\n"
     ]
    },
    {
     "data": {
      "text/html": [
       "<div>\n",
       "<style>\n",
       "    .dataframe thead tr:only-child th {\n",
       "        text-align: right;\n",
       "    }\n",
       "\n",
       "    .dataframe thead th {\n",
       "        text-align: left;\n",
       "    }\n",
       "\n",
       "    .dataframe tbody tr th {\n",
       "        vertical-align: top;\n",
       "    }\n",
       "</style>\n",
       "<table border=\"1\" class=\"dataframe\">\n",
       "  <thead>\n",
       "    <tr style=\"text-align: right;\">\n",
       "      <th></th>\n",
       "      <th>product_id</th>\n",
       "      <th>order_id</th>\n",
       "      <th>date_time</th>\n",
       "      <th>quantity</th>\n",
       "    </tr>\n",
       "  </thead>\n",
       "  <tbody>\n",
       "    <tr>\n",
       "      <th>0</th>\n",
       "      <td>57483849381</td>\n",
       "      <td>435723229</td>\n",
       "      <td>2017-03-24 04:59:10</td>\n",
       "      <td>1</td>\n",
       "    </tr>\n",
       "    <tr>\n",
       "      <th>1</th>\n",
       "      <td>57483849381</td>\n",
       "      <td>590234830</td>\n",
       "      <td>2017-02-03 01:44:42</td>\n",
       "      <td>10</td>\n",
       "    </tr>\n",
       "    <tr>\n",
       "      <th>2</th>\n",
       "      <td>57483849381</td>\n",
       "      <td>652912680</td>\n",
       "      <td>2017-02-05 23:32:43</td>\n",
       "      <td>4</td>\n",
       "    </tr>\n",
       "    <tr>\n",
       "      <th>3</th>\n",
       "      <td>57483849381</td>\n",
       "      <td>603830151</td>\n",
       "      <td>2017-03-01 20:59:05</td>\n",
       "      <td>9</td>\n",
       "    </tr>\n",
       "    <tr>\n",
       "      <th>4</th>\n",
       "      <td>57483849381</td>\n",
       "      <td>628238348</td>\n",
       "      <td>2017-03-11 04:05:09</td>\n",
       "      <td>1</td>\n",
       "    </tr>\n",
       "  </tbody>\n",
       "</table>\n",
       "</div>"
      ],
      "text/plain": [
       "    product_id   order_id           date_time  quantity\n",
       "0  57483849381  435723229 2017-03-24 04:59:10         1\n",
       "1  57483849381  590234830 2017-02-03 01:44:42        10\n",
       "2  57483849381  652912680 2017-02-05 23:32:43         4\n",
       "3  57483849381  603830151 2017-03-01 20:59:05         9\n",
       "4  57483849381  628238348 2017-03-11 04:05:09         1"
      ]
     },
     "metadata": {},
     "output_type": "display_data"
    }
   ],
   "source": [
    "print_summary()"
   ]
  },
  {
   "cell_type": "markdown",
   "metadata": {},
   "source": [
    "### Check for primary keys"
   ]
  },
  {
   "cell_type": "code",
   "execution_count": 18,
   "metadata": {},
   "outputs": [
    {
     "name": "stdout",
     "output_type": "stream",
     "text": [
      "57483849381    95\n",
      "KB392RIFD      10\n",
      "Name: product_id, dtype: int64\n",
      "57483849381    289\n",
      "Name: product_id, dtype: int64\n"
     ]
    }
   ],
   "source": [
    "print(pricing_data.product_id.value_counts())\n",
    "print(demand_data.product_id.value_counts())"
   ]
  },
  {
   "cell_type": "markdown",
   "metadata": {},
   "source": [
    "It looks like the pricing data has an extraneous product not in the demand data. Remove it"
   ]
  },
  {
   "cell_type": "code",
   "execution_count": 19,
   "metadata": {},
   "outputs": [
    {
     "name": "stdout",
     "output_type": "stream",
     "text": [
      "57483849381    95\n",
      "Name: product_id, dtype: int64\n",
      "57483849381    289\n",
      "Name: product_id, dtype: int64\n"
     ]
    }
   ],
   "source": [
    "pricing_data = pricing_data[pricing_data.product_id == \"57483849381\"]\n",
    "print(pricing_data.product_id.value_counts())\n",
    "print(demand_data.product_id.value_counts())"
   ]
  },
  {
   "cell_type": "markdown",
   "metadata": {},
   "source": [
    "Ensure that order_id is a primary key for the demand_data table"
   ]
  },
  {
   "cell_type": "code",
   "execution_count": 20,
   "metadata": {},
   "outputs": [
    {
     "data": {
      "text/plain": [
       "0"
      ]
     },
     "execution_count": 20,
     "metadata": {},
     "output_type": "execute_result"
    }
   ],
   "source": [
    "demand_data['order_id'].shape[0] -demand_data['order_id'].drop_duplicates().shape[0]"
   ]
  },
  {
   "cell_type": "markdown",
   "metadata": {},
   "source": [
    "Ensure that product ID and start_date are primary keys for the pricing_data table"
   ]
  },
  {
   "cell_type": "code",
   "execution_count": 21,
   "metadata": {},
   "outputs": [
    {
     "data": {
      "text/plain": [
       "0"
      ]
     },
     "execution_count": 21,
     "metadata": {},
     "output_type": "execute_result"
    }
   ],
   "source": [
    "pricing_data[['product_id', 'start_date']].shape[0] - pricing_data[['product_id', 'start_date']].drop_duplicates().shape[0]"
   ]
  },
  {
   "cell_type": "markdown",
   "metadata": {},
   "source": [
    "We want to make sure that the price table we have covers time continuously with no overlap and no gaps. If there are any gaps, we will extent the end time of the previous period to fill that gap. If there is any overlap, we will push the end time of the previous period back to remove the overlap. If any gap or overlap is greater than 20 seconds, we'll print a warning.\n",
    "\n",
    "Specifically, we will do this as follows\n",
    "  * Sort the datframe by start_time\n",
    "  * Number the rows\n",
    "  * For each row, bring in the *next* start_time using a join\n",
    "  * Go through each row and check for overlaps/gaps"
   ]
  },
  {
   "cell_type": "code",
   "execution_count": 22,
   "metadata": {
    "collapsed": true
   },
   "outputs": [],
   "source": [
    "# Sort the dataframe and reset the index\n",
    "pricing_data = pricing_data.sort_values('start_date').reset_index(drop = True)\n",
    "\n",
    "# Create a second datframe that only contains the start date, and subtract 1\n",
    "# from its index. When we join the dataframe together on the index, each row\n",
    "# in pricing_data will be joined to the next row in this new dataframe\n",
    "right_table = pricing_data[['start_date']].copy()  # Note that .copy() is crucial here, or else we risk modifying\n",
    "                                                   # the index of the original datframe depending on whether Pandas\n",
    "                                                   # is returning a view or a copy\n",
    "right_table.index = right_table.index - 1\n",
    "right_table.columns = ['next_start_date']\n",
    "\n",
    "# Join the tables\n",
    "pricing_data = pd.merge( pricing_data, right_table, how='left', left_index=True, right_index=True )"
   ]
  },
  {
   "cell_type": "code",
   "execution_count": 23,
   "metadata": {},
   "outputs": [
    {
     "name": "stdout",
     "output_type": "stream",
     "text": [
      "WARNING: detected a gap or overlap greater than 30 seconds. Gap was 25923.79 seconds, for period with start_date 2017-02-07 00-11-24, ending 2017-02-07 16-53-26. Next period starts at 2017-02-08 00-05-30\n"
     ]
    }
   ],
   "source": [
    "# Go through our table, and check for gaps\n",
    "for i, row in pricing_data.iterrows():\n",
    "    this_gap = ( row['next_start_date'] - row['end_date'] ).total_seconds()\n",
    "    \n",
    "    if ( abs(this_gap) > 30 ):\n",
    "        print(\"WARNING: detected a gap or overlap greater than 30 seconds. Gap was \" + str(round(this_gap, 2)) + \" seconds,\" +\\\n",
    "                 \" for period with start_date \" + row['start_date'].strftime('%Y-%m-%d %H-%M-%S') + \", ending \" +\\\n",
    "                 row['end_date'].strftime('%Y-%m-%d %H-%M-%S') + \". Next period starts at \" +\\\n",
    "                                              row['next_start_date'].strftime('%Y-%m-%d %H-%M-%S') )\n",
    "    \n",
    "    # Fix the end date of this period to eliminate any gaps or overlaps,\n",
    "    # unless the next start date is null (this would happen in the last\n",
    "    # row)\n",
    "    if (not pd.isnull( row['next_start_date'] )): pricing_data.at[i, 'end_date'] = row['next_start_date']\n",
    "\n",
    "# We're done with the next_start_date column\n",
    "del pricing_data['next_start_date']"
   ]
  },
  {
   "cell_type": "markdown",
   "metadata": {},
   "source": [
    "See where we're at"
   ]
  },
  {
   "cell_type": "code",
   "execution_count": 24,
   "metadata": {},
   "outputs": [
    {
     "name": "stdout",
     "output_type": "stream",
     "text": [
      "PRICING DATA\n",
      "Shape: (95, 4)\n"
     ]
    },
    {
     "data": {
      "text/html": [
       "<div>\n",
       "<style>\n",
       "    .dataframe thead tr:only-child th {\n",
       "        text-align: right;\n",
       "    }\n",
       "\n",
       "    .dataframe thead th {\n",
       "        text-align: left;\n",
       "    }\n",
       "\n",
       "    .dataframe tbody tr th {\n",
       "        vertical-align: top;\n",
       "    }\n",
       "</style>\n",
       "<table border=\"1\" class=\"dataframe\">\n",
       "  <thead>\n",
       "    <tr style=\"text-align: right;\">\n",
       "      <th></th>\n",
       "      <th>product_id</th>\n",
       "      <th>start_date</th>\n",
       "      <th>end_date</th>\n",
       "      <th>price</th>\n",
       "    </tr>\n",
       "  </thead>\n",
       "  <tbody>\n",
       "    <tr>\n",
       "      <th>0</th>\n",
       "      <td>57483849381</td>\n",
       "      <td>2017-02-01 00:00:00.000000</td>\n",
       "      <td>2017-02-02 00:19:01.440171</td>\n",
       "      <td>3.01</td>\n",
       "    </tr>\n",
       "    <tr>\n",
       "      <th>1</th>\n",
       "      <td>57483849381</td>\n",
       "      <td>2017-02-02 00:19:01.440171</td>\n",
       "      <td>2017-02-03 00:19:53.641123</td>\n",
       "      <td>3.13</td>\n",
       "    </tr>\n",
       "    <tr>\n",
       "      <th>2</th>\n",
       "      <td>57483849381</td>\n",
       "      <td>2017-02-03 00:19:53.641123</td>\n",
       "      <td>2017-02-05 00:02:34.946427</td>\n",
       "      <td>3.29</td>\n",
       "    </tr>\n",
       "    <tr>\n",
       "      <th>3</th>\n",
       "      <td>57483849381</td>\n",
       "      <td>2017-02-05 00:02:34.946427</td>\n",
       "      <td>2017-02-07 00:11:24.754491</td>\n",
       "      <td>3.44</td>\n",
       "    </tr>\n",
       "    <tr>\n",
       "      <th>4</th>\n",
       "      <td>57483849381</td>\n",
       "      <td>2017-02-07 00:11:24.754491</td>\n",
       "      <td>2017-02-08 00:05:30.121271</td>\n",
       "      <td>3.57</td>\n",
       "    </tr>\n",
       "  </tbody>\n",
       "</table>\n",
       "</div>"
      ],
      "text/plain": [
       "    product_id                 start_date                   end_date  price\n",
       "0  57483849381 2017-02-01 00:00:00.000000 2017-02-02 00:19:01.440171   3.01\n",
       "1  57483849381 2017-02-02 00:19:01.440171 2017-02-03 00:19:53.641123   3.13\n",
       "2  57483849381 2017-02-03 00:19:53.641123 2017-02-05 00:02:34.946427   3.29\n",
       "3  57483849381 2017-02-05 00:02:34.946427 2017-02-07 00:11:24.754491   3.44\n",
       "4  57483849381 2017-02-07 00:11:24.754491 2017-02-08 00:05:30.121271   3.57"
      ]
     },
     "metadata": {},
     "output_type": "display_data"
    },
    {
     "name": "stdout",
     "output_type": "stream",
     "text": [
      "DEMAND DATA\n",
      "Shape: (289, 4)\n"
     ]
    },
    {
     "data": {
      "text/html": [
       "<div>\n",
       "<style>\n",
       "    .dataframe thead tr:only-child th {\n",
       "        text-align: right;\n",
       "    }\n",
       "\n",
       "    .dataframe thead th {\n",
       "        text-align: left;\n",
       "    }\n",
       "\n",
       "    .dataframe tbody tr th {\n",
       "        vertical-align: top;\n",
       "    }\n",
       "</style>\n",
       "<table border=\"1\" class=\"dataframe\">\n",
       "  <thead>\n",
       "    <tr style=\"text-align: right;\">\n",
       "      <th></th>\n",
       "      <th>product_id</th>\n",
       "      <th>order_id</th>\n",
       "      <th>date_time</th>\n",
       "      <th>quantity</th>\n",
       "    </tr>\n",
       "  </thead>\n",
       "  <tbody>\n",
       "    <tr>\n",
       "      <th>0</th>\n",
       "      <td>57483849381</td>\n",
       "      <td>435723229</td>\n",
       "      <td>2017-03-24 04:59:10</td>\n",
       "      <td>1</td>\n",
       "    </tr>\n",
       "    <tr>\n",
       "      <th>1</th>\n",
       "      <td>57483849381</td>\n",
       "      <td>590234830</td>\n",
       "      <td>2017-02-03 01:44:42</td>\n",
       "      <td>10</td>\n",
       "    </tr>\n",
       "    <tr>\n",
       "      <th>2</th>\n",
       "      <td>57483849381</td>\n",
       "      <td>652912680</td>\n",
       "      <td>2017-02-05 23:32:43</td>\n",
       "      <td>4</td>\n",
       "    </tr>\n",
       "    <tr>\n",
       "      <th>3</th>\n",
       "      <td>57483849381</td>\n",
       "      <td>603830151</td>\n",
       "      <td>2017-03-01 20:59:05</td>\n",
       "      <td>9</td>\n",
       "    </tr>\n",
       "    <tr>\n",
       "      <th>4</th>\n",
       "      <td>57483849381</td>\n",
       "      <td>628238348</td>\n",
       "      <td>2017-03-11 04:05:09</td>\n",
       "      <td>1</td>\n",
       "    </tr>\n",
       "  </tbody>\n",
       "</table>\n",
       "</div>"
      ],
      "text/plain": [
       "    product_id   order_id           date_time  quantity\n",
       "0  57483849381  435723229 2017-03-24 04:59:10         1\n",
       "1  57483849381  590234830 2017-02-03 01:44:42        10\n",
       "2  57483849381  652912680 2017-02-05 23:32:43         4\n",
       "3  57483849381  603830151 2017-03-01 20:59:05         9\n",
       "4  57483849381  628238348 2017-03-11 04:05:09         1"
      ]
     },
     "metadata": {},
     "output_type": "display_data"
    }
   ],
   "source": [
    "print_summary()"
   ]
  },
  {
   "cell_type": "markdown",
   "metadata": {},
   "source": [
    "## Explore the data\n",
    "Now that the data has been cleaned and typed, we're ready to do some preliminary exploration"
   ]
  },
  {
   "cell_type": "markdown",
   "metadata": {},
   "source": [
    "### Price data"
   ]
  },
  {
   "cell_type": "code",
   "execution_count": 25,
   "metadata": {},
   "outputs": [
    {
     "data": {
      "text/plain": [
       "<matplotlib.axes._subplots.AxesSubplot at 0x20e7cbed0b8>"
      ]
     },
     "execution_count": 25,
     "metadata": {},
     "output_type": "execute_result"
    },
    {
     "data": {
      "image/png": "[encoded data removed]",
      "text/plain": [
       "<matplotlib.figure.Figure at 0x20e7ca8e828>"
      ]
     },
     "metadata": {},
     "output_type": "display_data"
    }
   ],
   "source": [
    "# Find out when price changes tend to happen\n",
    "pricing_data.start_date.apply( lambda x : x.second/(60*60.0) + x.minute/60.0 + x.hour).plot.hist(bins = 100)"
   ]
  },
  {
   "cell_type": "code",
   "execution_count": 26,
   "metadata": {},
   "outputs": [
    {
     "data": {
      "text/plain": [
       "<matplotlib.axes._subplots.AxesSubplot at 0x20e7ecc4d68>"
      ]
     },
     "execution_count": 26,
     "metadata": {},
     "output_type": "execute_result"
    },
    {
     "data": {
      "image/png": "[encoded data removed]",
      "text/plain": [
       "<matplotlib.figure.Figure at 0x20e7ec7df28>"
      ]
     },
     "metadata": {},
     "output_type": "display_data"
    }
   ],
   "source": [
    "# Find out how long price changes tend to last\n",
    "pricing_data.apply( lambda x : ( ( x['end_date'] - x['start_date'] ).total_seconds()/(60*60*24.0) ), axis =1 ).plot.hist(bins = 100)"
   ]
  },
  {
   "cell_type": "markdown",
   "metadata": {},
   "source": [
    "The two previous cells imply that prices tend to always change around midnight, and last a whole number of days. This is good news. It means we don't have to worry about the time of day acting as a confounding factor. In other words, we'll never encounter a situation in which data for one of our price points was collected from 1am - 2am, and data from another price point from 8pm - 9pm, presumably a more popular time."
   ]
  },
  {
   "cell_type": "code",
   "execution_count": 27,
   "metadata": {},
   "outputs": [
    {
     "data": {
      "text/plain": [
       "<matplotlib.axes._subplots.AxesSubplot at 0x20e7fe9ab00>"
      ]
     },
     "execution_count": 27,
     "metadata": {},
     "output_type": "execute_result"
    },
    {
     "data": {
      "image/png": "[encoded data removed]",
      "text/plain": [
       "<matplotlib.figure.Figure at 0x20e7ed3ee10>"
      ]
     },
     "metadata": {},
     "output_type": "display_data"
    }
   ],
   "source": [
    "# Look at the distribution of prices (note: this isn't strictly\n",
    "# speaking right, because it doesn't take into account the fact\n",
    "# that some prices are in effect for longer than others, but it\n",
    "# should give us an idea)\n",
    "pricing_data.price.plot.hist(bins = 100)"
   ]
  },
  {
   "cell_type": "code",
   "execution_count": 28,
   "metadata": {},
   "outputs": [
    {
     "name": "stdout",
     "output_type": "stream",
     "text": [
      "0    5.49\n",
      "dtype: float64\n"
     ]
    },
    {
     "data": {
      "image/png": "[encoded data removed]",
      "text/plain": [
       "<matplotlib.figure.Figure at 0x20e7ffb4fd0>"
      ]
     },
     "metadata": {},
     "output_type": "display_data"
    }
   ],
   "source": [
    "# That plot was useless. Let's try instead to plot the start date\n",
    "# on the x-axis and the price on the y-axis, to see how the price\n",
    "# was modified over time\n",
    "plotting_frame = pricing_data[['start_date', 'price']].copy()\n",
    "min_date = plotting_frame.start_date.min()\n",
    "plotting_frame.start_date = plotting_frame.start_date.apply( lambda x : (x - min_date).total_seconds()/(60*60*24.0) )\n",
    "plotting_frame.plot.scatter(x = 'start_date', y = 'price')\n",
    "print( plotting_frame.price.mode() )"
   ]
  },
  {
   "cell_type": "markdown",
   "metadata": {},
   "source": [
    "That makes more sense - it looks like the strategy that was adopted was to scan all prices between \\$0 and \\$13, and then settle on a price of \\$5.49"
   ]
  },
  {
   "cell_type": "markdown",
   "metadata": {},
   "source": [
    "### Demand data"
   ]
  },
  {
   "cell_type": "code",
   "execution_count": 29,
   "metadata": {},
   "outputs": [
    {
     "data": {
      "text/plain": [
       "<matplotlib.axes._subplots.AxesSubplot at 0x20e7ff79c18>"
      ]
     },
     "execution_count": 29,
     "metadata": {},
     "output_type": "execute_result"
    },
    {
     "data": {
      "image/png": "[encoded data removed]",
      "text/plain": [
       "<matplotlib.figure.Figure at 0x20e7ff45a58>"
      ]
     },
     "metadata": {},
     "output_type": "display_data"
    }
   ],
   "source": [
    "# Look at the distribution of purchased quantities\n",
    "demand_data.quantity.plot.hist(bins = 100)"
   ]
  },
  {
   "cell_type": "code",
   "execution_count": 30,
   "metadata": {},
   "outputs": [
    {
     "data": {
      "text/html": [
       "<div>\n",
       "<style>\n",
       "    .dataframe thead tr:only-child th {\n",
       "        text-align: right;\n",
       "    }\n",
       "\n",
       "    .dataframe thead th {\n",
       "        text-align: left;\n",
       "    }\n",
       "\n",
       "    .dataframe tbody tr th {\n",
       "        vertical-align: top;\n",
       "    }\n",
       "</style>\n",
       "<table border=\"1\" class=\"dataframe\">\n",
       "  <thead>\n",
       "    <tr style=\"text-align: right;\">\n",
       "      <th></th>\n",
       "      <th>product_id</th>\n",
       "      <th>order_id</th>\n",
       "      <th>date_time</th>\n",
       "      <th>quantity</th>\n",
       "    </tr>\n",
       "  </thead>\n",
       "  <tbody>\n",
       "    <tr>\n",
       "      <th>101</th>\n",
       "      <td>57483849381</td>\n",
       "      <td>573728593</td>\n",
       "      <td>2017-02-09</td>\n",
       "      <td>-1</td>\n",
       "    </tr>\n",
       "    <tr>\n",
       "      <th>228</th>\n",
       "      <td>57483849381</td>\n",
       "      <td>S3ff@@3</td>\n",
       "      <td>2017-02-05</td>\n",
       "      <td>999999</td>\n",
       "    </tr>\n",
       "  </tbody>\n",
       "</table>\n",
       "</div>"
      ],
      "text/plain": [
       "      product_id   order_id  date_time  quantity\n",
       "101  57483849381  573728593 2017-02-09        -1\n",
       "228  57483849381    S3ff@@3 2017-02-05    999999"
      ]
     },
     "execution_count": 30,
     "metadata": {},
     "output_type": "execute_result"
    }
   ],
   "source": [
    "# Whoaaaa.... Something looks seriously wrong - we shouldn't be\n",
    "# selling quantities above 1000! Let's see how many of those we\n",
    "# have. For good measure, we may as well also look for negative\n",
    "# demand values\n",
    "demand_data[ (demand_data.quantity > 1000) | (demand_data.quantity < 0) ]"
   ]
  },
  {
   "cell_type": "code",
   "execution_count": 31,
   "metadata": {},
   "outputs": [
    {
     "data": {
      "text/plain": [
       "<matplotlib.axes._subplots.AxesSubplot at 0x20e00198a58>"
      ]
     },
     "execution_count": 31,
     "metadata": {},
     "output_type": "execute_result"
    },
    {
     "data": {
      "image/png": "[encoded data removed]",
      "text/plain": [
       "<matplotlib.figure.Figure at 0x20e00148da0>"
      ]
     },
     "metadata": {},
     "output_type": "display_data"
    }
   ],
   "source": [
    "# Looks like we only have one - let's get rid of it and try\n",
    "# again\n",
    "demand_data = demand_data[ (demand_data.quantity <= 1000) & (demand_data.quantity >= 0)]\n",
    "demand_data.quantity.plot.hist(bins = 100)"
   ]
  },
  {
   "cell_type": "markdown",
   "metadata": {},
   "source": [
    "Much better..."
   ]
  },
  {
   "cell_type": "markdown",
   "metadata": {},
   "source": [
    "## Estimate a Demand Curve\n",
    "Now that our data are clean, let's build a master data frame which - for each price - gives the average demand per day for the period the price was active.\n",
    "\n",
    "There are many ways to do this. Given the size of our data, the most efficient way is as follows\n",
    "  * We will join the price data and demand data dataframes on product_id. This will result in a datframe in which every single demand point is duplicated for every price point.\n",
    "  * We will then remove all rows for which the demand point does not fall in the price date range\n",
    "  * Next, we will aggregate on the start/end date and price, summing the demand\n",
    "  * Finally, we will find the amount of time during which each price was active, and aggregate on price, summing the demand and period of activity. For each price, this will give us total time period it was active, and total demand\n",
    "  \n",
    "Note that if the data were much larger, this would be a shockingly inneficient way of carrying out his operation given the scale of duplication. However, if the data scale were much larger, it would most likely be stored in some sort of more robust data storage infrastructure (eg: hadoop), in which these kinds of large join operations are very efficient."
   ]
  },
  {
   "cell_type": "code",
   "execution_count": 32,
   "metadata": {
    "collapsed": true
   },
   "outputs": [],
   "source": [
    "master_table = pd.merge(pricing_data, demand_data[['product_id', 'date_time', 'quantity']], on ='product_id')"
   ]
  },
  {
   "cell_type": "code",
   "execution_count": 33,
   "metadata": {},
   "outputs": [
    {
     "data": {
      "text/plain": [
       "0"
      ]
     },
     "execution_count": 33,
     "metadata": {},
     "output_type": "execute_result"
    }
   ],
   "source": [
    "# The master table should have one row per row in each table\n",
    "master_table.shape[0] - (demand_data.shape[0] * pricing_data.shape[0])"
   ]
  },
  {
   "cell_type": "code",
   "execution_count": 34,
   "metadata": {
    "collapsed": true
   },
   "outputs": [],
   "source": [
    "# Only keep demands that occured in the date range described in a\n",
    "# given row\n",
    "master_table = master_table[ (master_table.date_time > master_table.start_date) &\\\n",
    "                                    (master_table.date_time < master_table.end_date)]"
   ]
  },
  {
   "cell_type": "code",
   "execution_count": 35,
   "metadata": {},
   "outputs": [
    {
     "data": {
      "text/plain": [
       "0"
      ]
     },
     "execution_count": 35,
     "metadata": {},
     "output_type": "execute_result"
    }
   ],
   "source": [
    "# Because we took great pains to ensure the rows in the pricing\n",
    "# table covered time with no gaps and no overlaps, every demand\n",
    "# should be captured in the resulting table once and once only.\n",
    "# Ensure this is the case\n",
    "master_table.shape[0] - demand_data.shape[0]"
   ]
  },
  {
   "cell_type": "code",
   "execution_count": 36,
   "metadata": {
    "collapsed": true
   },
   "outputs": [],
   "source": [
    "# Only keep columns we'll need going forward\n",
    "master_table = master_table[['start_date', 'end_date', 'price', 'quantity']]"
   ]
  },
  {
   "cell_type": "code",
   "execution_count": 37,
   "metadata": {
    "collapsed": true
   },
   "outputs": [],
   "source": [
    "# Aggregate on start_date, end_date, and price, summing over\n",
    "# quantity\n",
    "master_table = master_table.groupby(['start_date', 'end_date', 'price']).\\\n",
    "                                apply( lambda x : pd.Series( x.quantity.sum(), index=['total_quantity'] ) ).reset_index()"
   ]
  },
  {
   "cell_type": "code",
   "execution_count": 38,
   "metadata": {
    "collapsed": true
   },
   "outputs": [],
   "source": [
    "# Find the number of days each price was active\n",
    "master_table['days_active'] = ( master_table.end_date - master_table.start_date ).apply( lambda x : x.total_seconds() / (60*60*24.0))\n",
    "\n",
    "# Drop extraneous columns\n",
    "master_table = master_table[['price', 'total_quantity', 'days_active']]"
   ]
  },
  {
   "cell_type": "code",
   "execution_count": 39,
   "metadata": {
    "collapsed": true
   },
   "outputs": [],
   "source": [
    "# Aggregate for each price, to find the total demand the total number\n",
    "# of days active\n",
    "master_table =master_table.groupby('price').\\\n",
    "                                apply( lambda x : pd.Series( [x.total_quantity.sum(), x.days_active.sum()],\n",
    "                                                                   index = ['total_quantity', 'total_days_active'] ) ).\\\n",
    "                                                                                                                reset_index()"
   ]
  },
  {
   "cell_type": "code",
   "execution_count": 40,
   "metadata": {
    "collapsed": true
   },
   "outputs": [],
   "source": [
    "# Finally, find the demand per day and drop extraneous columns\n",
    "master_table['demand_per_day'] = master_table.total_quantity / master_table.total_days_active\n",
    "\n",
    "master_table = master_table[['price', 'demand_per_day']]"
   ]
  },
  {
   "cell_type": "code",
   "execution_count": 42,
   "metadata": {
    "collapsed": true
   },
   "outputs": [],
   "source": [
    "master_table.to_csv(\"cleaned_data.csv\", index=False)"
   ]
  }
 ],
 "metadata": {
  "kernelspec": {
   "display_name": "Python 3",
   "language": "python",
   "name": "python3"
  },
  "language_info": {
   "codemirror_mode": {
    "name": "ipython",
    "version": 3
   },
   "file_extension": ".py",
   "mimetype": "text/x-python",
   "name": "python",
   "nbconvert_exporter": "python",
   "pygments_lexer": "ipython3",
   "version": "3.6.3"
  }
 },
 "nbformat": 4,
 "nbformat_minor": 2
}
